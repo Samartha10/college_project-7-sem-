{
 "cells": [
  {
   "cell_type": "code",
   "execution_count": 60,
   "id": "8aac8bd2",
   "metadata": {},
   "outputs": [],
   "source": [
    "import pandas as pd\n",
    "import numpy as np"
   ]
  },
  {
   "cell_type": "code",
   "execution_count": 124,
   "id": "8e9a5b57",
   "metadata": {},
   "outputs": [],
   "source": [
    "df = pd.read_csv('/Users/samarthapc/Documents/college project/college_project-7-sem-/final project/Emails.csv')\n"
   ]
  },
  {
   "cell_type": "code",
   "execution_count": 125,
   "id": "19ec09b5",
   "metadata": {},
   "outputs": [
    {
     "data": {
      "text/html": [
       "<div>\n",
       "<style scoped>\n",
       "    .dataframe tbody tr th:only-of-type {\n",
       "        vertical-align: middle;\n",
       "    }\n",
       "\n",
       "    .dataframe tbody tr th {\n",
       "        vertical-align: top;\n",
       "    }\n",
       "\n",
       "    .dataframe thead th {\n",
       "        text-align: right;\n",
       "    }\n",
       "</style>\n",
       "<table border=\"1\" class=\"dataframe\">\n",
       "  <thead>\n",
       "    <tr style=\"text-align: right;\">\n",
       "      <th></th>\n",
       "      <th>text</th>\n",
       "      <th>spam</th>\n",
       "    </tr>\n",
       "  </thead>\n",
       "  <tbody>\n",
       "    <tr>\n",
       "      <th>0</th>\n",
       "      <td>Subject: naturally irresistible your corporate...</td>\n",
       "      <td>1</td>\n",
       "    </tr>\n",
       "    <tr>\n",
       "      <th>1</th>\n",
       "      <td>Subject: the stock trading gunslinger  fanny i...</td>\n",
       "      <td>1</td>\n",
       "    </tr>\n",
       "    <tr>\n",
       "      <th>2</th>\n",
       "      <td>Subject: unbelievable new homes made easy  im ...</td>\n",
       "      <td>1</td>\n",
       "    </tr>\n",
       "    <tr>\n",
       "      <th>3</th>\n",
       "      <td>Subject: 4 color printing special  request add...</td>\n",
       "      <td>1</td>\n",
       "    </tr>\n",
       "    <tr>\n",
       "      <th>4</th>\n",
       "      <td>Subject: do not have money , get software cds ...</td>\n",
       "      <td>1</td>\n",
       "    </tr>\n",
       "    <tr>\n",
       "      <th>5</th>\n",
       "      <td>Subject: great nnews  hello , welcome to medzo...</td>\n",
       "      <td>1</td>\n",
       "    </tr>\n",
       "    <tr>\n",
       "      <th>6</th>\n",
       "      <td>Subject: here ' s a hot play in motion  homela...</td>\n",
       "      <td>1</td>\n",
       "    </tr>\n",
       "    <tr>\n",
       "      <th>7</th>\n",
       "      <td>Subject: save your money buy getting this thin...</td>\n",
       "      <td>1</td>\n",
       "    </tr>\n",
       "    <tr>\n",
       "      <th>8</th>\n",
       "      <td>Subject: undeliverable : home based business f...</td>\n",
       "      <td>1</td>\n",
       "    </tr>\n",
       "    <tr>\n",
       "      <th>9</th>\n",
       "      <td>Subject: save your money buy getting this thin...</td>\n",
       "      <td>1</td>\n",
       "    </tr>\n",
       "  </tbody>\n",
       "</table>\n",
       "</div>"
      ],
      "text/plain": [
       "                                                text  spam\n",
       "0  Subject: naturally irresistible your corporate...     1\n",
       "1  Subject: the stock trading gunslinger  fanny i...     1\n",
       "2  Subject: unbelievable new homes made easy  im ...     1\n",
       "3  Subject: 4 color printing special  request add...     1\n",
       "4  Subject: do not have money , get software cds ...     1\n",
       "5  Subject: great nnews  hello , welcome to medzo...     1\n",
       "6  Subject: here ' s a hot play in motion  homela...     1\n",
       "7  Subject: save your money buy getting this thin...     1\n",
       "8  Subject: undeliverable : home based business f...     1\n",
       "9  Subject: save your money buy getting this thin...     1"
      ]
     },
     "execution_count": 125,
     "metadata": {},
     "output_type": "execute_result"
    }
   ],
   "source": [
    "df.head(10)\n"
   ]
  },
  {
   "cell_type": "code",
   "execution_count": 126,
   "id": "906e9222",
   "metadata": {},
   "outputs": [],
   "source": [
    "import re\n",
    "\n",
    "def extract_sentence(row):\n",
    "    # Convert the 'text' column value to a string if it's not already a string\n",
    "    text = str(row['text'])\n",
    "\n",
    "    # Define a regular expression pattern to match a sentence until double spaces\n",
    "    pattern = r\"(.+?)  \"\n",
    "    \n",
    "    # Use re.search to find the pattern in the text\n",
    "    match = re.search(pattern, text)\n",
    "\n",
    "    # Check if a match is found and return the result\n",
    "    if match:\n",
    "         extracted_sentence = match.group(1)\n",
    "         updated_sentence = re.sub(pattern, '', text, count=1)\n",
    "         return extracted_sentence , updated_sentence \n",
    "    else:\n",
    "        return None , text\n",
    "\n",
    "# Extract the sentence until double spaces\n",
    "df[['subject', 'text']] = df.apply(extract_sentence, axis=1, result_type='expand')\n"
   ]
  },
  {
   "cell_type": "code",
   "execution_count": 127,
   "id": "7adb03f5",
   "metadata": {},
   "outputs": [
    {
     "data": {
      "text/html": [
       "<div>\n",
       "<style scoped>\n",
       "    .dataframe tbody tr th:only-of-type {\n",
       "        vertical-align: middle;\n",
       "    }\n",
       "\n",
       "    .dataframe tbody tr th {\n",
       "        vertical-align: top;\n",
       "    }\n",
       "\n",
       "    .dataframe thead th {\n",
       "        text-align: right;\n",
       "    }\n",
       "</style>\n",
       "<table border=\"1\" class=\"dataframe\">\n",
       "  <thead>\n",
       "    <tr style=\"text-align: right;\">\n",
       "      <th></th>\n",
       "      <th>text</th>\n",
       "      <th>spam</th>\n",
       "      <th>subject</th>\n",
       "    </tr>\n",
       "  </thead>\n",
       "  <tbody>\n",
       "    <tr>\n",
       "      <th>0</th>\n",
       "      <td>lt is really hard to recollect a company : the...</td>\n",
       "      <td>1</td>\n",
       "      <td>Subject: naturally irresistible your corporate...</td>\n",
       "    </tr>\n",
       "    <tr>\n",
       "      <th>1</th>\n",
       "      <td>fanny is merrill but muzo not colza attainder ...</td>\n",
       "      <td>1</td>\n",
       "      <td>Subject: the stock trading gunslinger</td>\n",
       "    </tr>\n",
       "    <tr>\n",
       "      <th>2</th>\n",
       "      <td>im wanting to show you this  homeowner  you ha...</td>\n",
       "      <td>1</td>\n",
       "      <td>Subject: unbelievable new homes made easy</td>\n",
       "    </tr>\n",
       "    <tr>\n",
       "      <th>3</th>\n",
       "      <td>request additional information now ! click her...</td>\n",
       "      <td>1</td>\n",
       "      <td>Subject: 4 color printing special</td>\n",
       "    </tr>\n",
       "    <tr>\n",
       "      <th>4</th>\n",
       "      <td>software compatibility . . . . ain ' t it grea...</td>\n",
       "      <td>1</td>\n",
       "      <td>Subject: do not have money , get software cds ...</td>\n",
       "    </tr>\n",
       "  </tbody>\n",
       "</table>\n",
       "</div>"
      ],
      "text/plain": [
       "                                                text  spam  \\\n",
       "0  lt is really hard to recollect a company : the...     1   \n",
       "1  fanny is merrill but muzo not colza attainder ...     1   \n",
       "2  im wanting to show you this  homeowner  you ha...     1   \n",
       "3  request additional information now ! click her...     1   \n",
       "4  software compatibility . . . . ain ' t it grea...     1   \n",
       "\n",
       "                                             subject  \n",
       "0  Subject: naturally irresistible your corporate...  \n",
       "1              Subject: the stock trading gunslinger  \n",
       "2          Subject: unbelievable new homes made easy  \n",
       "3                  Subject: 4 color printing special  \n",
       "4  Subject: do not have money , get software cds ...  "
      ]
     },
     "execution_count": 127,
     "metadata": {},
     "output_type": "execute_result"
    }
   ],
   "source": [
    "df.head()"
   ]
  },
  {
   "cell_type": "code",
   "execution_count": 128,
   "id": "db441aa4",
   "metadata": {},
   "outputs": [
    {
     "data": {
      "text/plain": [
       "\"lt is really hard to recollect a company : the  market is full of suqgestions and the information isoverwhelminq ; but a good  catchy logo , stylish statlonery and outstanding website  will make the task much easier .  we do not promise that havinq ordered a iogo your  company will automaticaily become a world ieader : it isguite ciear that  without good products , effective business organization and practicable aim it  will be hotat nowadays market ; but we do promise that your marketing efforts  will become much more effective . here is the list of clear  benefits : creativeness : hand - made , original logos , specially done  to reflect your distinctive company image . convenience : logo and stationery  are provided in all formats ; easy - to - use content management system letsyou  change your website content and even its structure . promptness : you  will see logo drafts within three business days . affordability : your  marketing break - through shouldn ' t make gaps in your budget . 100 % satisfaction  guaranteed : we provide unlimited amount of changes with no extra fees for you to  be surethat you will love the result of this collaboration . have a look at our  portfolio _ _ _ _ _ _ _ _ _ _ _ _ _ _ _ _ _ _ _ _ _ _ _ _ _ _ _ _ _ _ _ _ _ _ _ _ _ _ _ _ _ _ _ _ _ _ _ _ _ _ _ _ not interested . . . _ _ _ _ _ _ _ _ _ _ _ _ _ _ _ _ _ _ _ _ _ _ _ _ _ _ _ _ _ _ _ _ _ _ _ _ _ _ _ _ _ _ _ _ _ _ _ _ _ _ _ _\""
      ]
     },
     "execution_count": 128,
     "metadata": {},
     "output_type": "execute_result"
    }
   ],
   "source": [
    "df['text'][0]"
   ]
  },
  {
   "cell_type": "code",
   "execution_count": 133,
   "id": "402c9cc7",
   "metadata": {},
   "outputs": [
    {
     "data": {
      "text/plain": [
       "'naturally irresistible your corporate identity'"
      ]
     },
     "execution_count": 133,
     "metadata": {},
     "output_type": "execute_result"
    }
   ],
   "source": [
    "df['subject'][0]"
   ]
  },
  {
   "cell_type": "code",
   "execution_count": 134,
   "id": "1e6cc6e7",
   "metadata": {},
   "outputs": [],
   "source": [
    "def remove_subject_prefix(subject):\n",
    "    if subject is not None and subject.startswith(\"Subject: \"):\n",
    "        return subject[9:]  # Remove \"Subject: \" from the beginning of the subject string\n",
    "    else:\n",
    "        return subject  # Return the subject string as it is\n",
    "\n",
    "# Apply the remove_subject_prefix function to the 'subject' column of the DataFrame\n",
    "df['subject'] = df['subject'].apply(remove_subject_prefix)\n"
   ]
  },
  {
   "cell_type": "code",
   "execution_count": 136,
   "id": "1606c309",
   "metadata": {},
   "outputs": [
    {
     "data": {
      "text/html": [
       "<div>\n",
       "<style scoped>\n",
       "    .dataframe tbody tr th:only-of-type {\n",
       "        vertical-align: middle;\n",
       "    }\n",
       "\n",
       "    .dataframe tbody tr th {\n",
       "        vertical-align: top;\n",
       "    }\n",
       "\n",
       "    .dataframe thead th {\n",
       "        text-align: right;\n",
       "    }\n",
       "</style>\n",
       "<table border=\"1\" class=\"dataframe\">\n",
       "  <thead>\n",
       "    <tr style=\"text-align: right;\">\n",
       "      <th></th>\n",
       "      <th>text</th>\n",
       "      <th>spam</th>\n",
       "      <th>subject</th>\n",
       "    </tr>\n",
       "  </thead>\n",
       "  <tbody>\n",
       "    <tr>\n",
       "      <th>0</th>\n",
       "      <td>lt is really hard to recollect a company : the...</td>\n",
       "      <td>1</td>\n",
       "      <td>naturally irresistible your corporate identity</td>\n",
       "    </tr>\n",
       "    <tr>\n",
       "      <th>1</th>\n",
       "      <td>fanny is merrill but muzo not colza attainder ...</td>\n",
       "      <td>1</td>\n",
       "      <td>the stock trading gunslinger</td>\n",
       "    </tr>\n",
       "    <tr>\n",
       "      <th>2</th>\n",
       "      <td>im wanting to show you this  homeowner  you ha...</td>\n",
       "      <td>1</td>\n",
       "      <td>unbelievable new homes made easy</td>\n",
       "    </tr>\n",
       "    <tr>\n",
       "      <th>3</th>\n",
       "      <td>request additional information now ! click her...</td>\n",
       "      <td>1</td>\n",
       "      <td>4 color printing special</td>\n",
       "    </tr>\n",
       "    <tr>\n",
       "      <th>4</th>\n",
       "      <td>software compatibility . . . . ain ' t it grea...</td>\n",
       "      <td>1</td>\n",
       "      <td>do not have money , get software cds from here !</td>\n",
       "    </tr>\n",
       "    <tr>\n",
       "      <th>5</th>\n",
       "      <td>hello , welcome to medzonline sh groundsel op ...</td>\n",
       "      <td>1</td>\n",
       "      <td>great nnews</td>\n",
       "    </tr>\n",
       "    <tr>\n",
       "      <th>6</th>\n",
       "      <td>homeland security investments  the terror atta...</td>\n",
       "      <td>1</td>\n",
       "      <td>here ' s a hot play in motion</td>\n",
       "    </tr>\n",
       "    <tr>\n",
       "      <th>7</th>\n",
       "      <td>you have not tried cialls yet ?  than you cann...</td>\n",
       "      <td>1</td>\n",
       "      <td>save your money buy getting this thing here</td>\n",
       "    </tr>\n",
       "    <tr>\n",
       "      <th>8</th>\n",
       "      <td>your message  subject : home based business fo...</td>\n",
       "      <td>1</td>\n",
       "      <td>undeliverable : home based business for grownups</td>\n",
       "    </tr>\n",
       "    <tr>\n",
       "      <th>9</th>\n",
       "      <td>you have not tried cialls yet ?  than you cann...</td>\n",
       "      <td>1</td>\n",
       "      <td>save your money buy getting this thing here</td>\n",
       "    </tr>\n",
       "  </tbody>\n",
       "</table>\n",
       "</div>"
      ],
      "text/plain": [
       "                                                text  spam  \\\n",
       "0  lt is really hard to recollect a company : the...     1   \n",
       "1  fanny is merrill but muzo not colza attainder ...     1   \n",
       "2  im wanting to show you this  homeowner  you ha...     1   \n",
       "3  request additional information now ! click her...     1   \n",
       "4  software compatibility . . . . ain ' t it grea...     1   \n",
       "5  hello , welcome to medzonline sh groundsel op ...     1   \n",
       "6  homeland security investments  the terror atta...     1   \n",
       "7  you have not tried cialls yet ?  than you cann...     1   \n",
       "8  your message  subject : home based business fo...     1   \n",
       "9  you have not tried cialls yet ?  than you cann...     1   \n",
       "\n",
       "                                            subject  \n",
       "0    naturally irresistible your corporate identity  \n",
       "1                      the stock trading gunslinger  \n",
       "2                  unbelievable new homes made easy  \n",
       "3                          4 color printing special  \n",
       "4  do not have money , get software cds from here !  \n",
       "5                                       great nnews  \n",
       "6                     here ' s a hot play in motion  \n",
       "7       save your money buy getting this thing here  \n",
       "8  undeliverable : home based business for grownups  \n",
       "9       save your money buy getting this thing here  "
      ]
     },
     "execution_count": 136,
     "metadata": {},
     "output_type": "execute_result"
    }
   ],
   "source": [
    "df.head(10)"
   ]
  }
 ],
 "metadata": {
  "kernelspec": {
   "display_name": "Python 3 (ipykernel)",
   "language": "python",
   "name": "python3"
  },
  "language_info": {
   "codemirror_mode": {
    "name": "ipython",
    "version": 3
   },
   "file_extension": ".py",
   "mimetype": "text/x-python",
   "name": "python",
   "nbconvert_exporter": "python",
   "pygments_lexer": "ipython3",
   "version": "3.11.5"
  }
 },
 "nbformat": 4,
 "nbformat_minor": 5
}
