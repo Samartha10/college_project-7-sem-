{
 "cells": [
  {
   "cell_type": "code",
   "execution_count": 1,
   "id": "cba6fcb0",
   "metadata": {},
   "outputs": [],
   "source": [
    "import pandas as pd\n",
    "import numpy as np\n",
    "import matplotlib.pyplot as plt\n",
    "from sklearn.model_selection import train_test_split"
   ]
  },
  {
   "cell_type": "code",
   "execution_count": 2,
   "id": "c42c7362",
   "metadata": {},
   "outputs": [],
   "source": [
    "dataset = pd.read_csv('/Users/samarthapc/Documents/college project/college_project-7-sem-/final project/Emails.csv')\n"
   ]
  },
  {
   "cell_type": "code",
   "execution_count": 3,
   "id": "173c721a",
   "metadata": {},
   "outputs": [
    {
     "data": {
      "text/html": [
       "<div>\n",
       "<style scoped>\n",
       "    .dataframe tbody tr th:only-of-type {\n",
       "        vertical-align: middle;\n",
       "    }\n",
       "\n",
       "    .dataframe tbody tr th {\n",
       "        vertical-align: top;\n",
       "    }\n",
       "\n",
       "    .dataframe thead th {\n",
       "        text-align: right;\n",
       "    }\n",
       "</style>\n",
       "<table border=\"1\" class=\"dataframe\">\n",
       "  <thead>\n",
       "    <tr style=\"text-align: right;\">\n",
       "      <th></th>\n",
       "      <th>text</th>\n",
       "      <th>spam</th>\n",
       "    </tr>\n",
       "  </thead>\n",
       "  <tbody>\n",
       "    <tr>\n",
       "      <th>0</th>\n",
       "      <td>Subject: naturally irresistible your corporate...</td>\n",
       "      <td>1</td>\n",
       "    </tr>\n",
       "    <tr>\n",
       "      <th>1</th>\n",
       "      <td>Subject: the stock trading gunslinger  fanny i...</td>\n",
       "      <td>1</td>\n",
       "    </tr>\n",
       "    <tr>\n",
       "      <th>2</th>\n",
       "      <td>Subject: unbelievable new homes made easy  im ...</td>\n",
       "      <td>1</td>\n",
       "    </tr>\n",
       "    <tr>\n",
       "      <th>3</th>\n",
       "      <td>Subject: 4 color printing special  request add...</td>\n",
       "      <td>1</td>\n",
       "    </tr>\n",
       "    <tr>\n",
       "      <th>4</th>\n",
       "      <td>Subject: do not have money , get software cds ...</td>\n",
       "      <td>1</td>\n",
       "    </tr>\n",
       "    <tr>\n",
       "      <th>5</th>\n",
       "      <td>Subject: great nnews  hello , welcome to medzo...</td>\n",
       "      <td>1</td>\n",
       "    </tr>\n",
       "    <tr>\n",
       "      <th>6</th>\n",
       "      <td>Subject: here ' s a hot play in motion  homela...</td>\n",
       "      <td>1</td>\n",
       "    </tr>\n",
       "    <tr>\n",
       "      <th>7</th>\n",
       "      <td>Subject: save your money buy getting this thin...</td>\n",
       "      <td>1</td>\n",
       "    </tr>\n",
       "    <tr>\n",
       "      <th>8</th>\n",
       "      <td>Subject: undeliverable : home based business f...</td>\n",
       "      <td>1</td>\n",
       "    </tr>\n",
       "    <tr>\n",
       "      <th>9</th>\n",
       "      <td>Subject: save your money buy getting this thin...</td>\n",
       "      <td>1</td>\n",
       "    </tr>\n",
       "  </tbody>\n",
       "</table>\n",
       "</div>"
      ],
      "text/plain": [
       "                                                text  spam\n",
       "0  Subject: naturally irresistible your corporate...     1\n",
       "1  Subject: the stock trading gunslinger  fanny i...     1\n",
       "2  Subject: unbelievable new homes made easy  im ...     1\n",
       "3  Subject: 4 color printing special  request add...     1\n",
       "4  Subject: do not have money , get software cds ...     1\n",
       "5  Subject: great nnews  hello , welcome to medzo...     1\n",
       "6  Subject: here ' s a hot play in motion  homela...     1\n",
       "7  Subject: save your money buy getting this thin...     1\n",
       "8  Subject: undeliverable : home based business f...     1\n",
       "9  Subject: save your money buy getting this thin...     1"
      ]
     },
     "execution_count": 3,
     "metadata": {},
     "output_type": "execute_result"
    }
   ],
   "source": [
    "dataset.head(10)"
   ]
  },
  {
   "cell_type": "code",
   "execution_count": 4,
   "id": "e31a6d83",
   "metadata": {},
   "outputs": [
    {
     "data": {
      "text/html": [
       "<div>\n",
       "<style scoped>\n",
       "    .dataframe tbody tr th:only-of-type {\n",
       "        vertical-align: middle;\n",
       "    }\n",
       "\n",
       "    .dataframe tbody tr th {\n",
       "        vertical-align: top;\n",
       "    }\n",
       "\n",
       "    .dataframe thead th {\n",
       "        text-align: right;\n",
       "    }\n",
       "</style>\n",
       "<table border=\"1\" class=\"dataframe\">\n",
       "  <thead>\n",
       "    <tr style=\"text-align: right;\">\n",
       "      <th></th>\n",
       "      <th>text</th>\n",
       "      <th>spam</th>\n",
       "    </tr>\n",
       "  </thead>\n",
       "  <tbody>\n",
       "    <tr>\n",
       "      <th>343</th>\n",
       "      <td>Subject: 6 % commission on 12 month \" cd - sty...</td>\n",
       "      <td>1</td>\n",
       "    </tr>\n",
       "    <tr>\n",
       "      <th>3822</th>\n",
       "      <td>Subject: re : lost cell telephone  chris :  vi...</td>\n",
       "      <td>0</td>\n",
       "    </tr>\n",
       "    <tr>\n",
       "      <th>2599</th>\n",
       "      <td>Subject: great divide lodge  vince and shirley...</td>\n",
       "      <td>0</td>\n",
       "    </tr>\n",
       "    <tr>\n",
       "      <th>2996</th>\n",
       "      <td>Subject: re : congratulations  vince ,  congra...</td>\n",
       "      <td>0</td>\n",
       "    </tr>\n",
       "    <tr>\n",
       "      <th>891</th>\n",
       "      <td>Subject: re [ 4 ] : don ' t get left behind ! ...</td>\n",
       "      <td>1</td>\n",
       "    </tr>\n",
       "    <tr>\n",
       "      <th>2902</th>\n",
       "      <td>Subject: interview schedules for tony hamilton...</td>\n",
       "      <td>0</td>\n",
       "    </tr>\n",
       "    <tr>\n",
       "      <th>1456</th>\n",
       "      <td>Subject: indication dates for sharad ' s visit...</td>\n",
       "      <td>0</td>\n",
       "    </tr>\n",
       "    <tr>\n",
       "      <th>3420</th>\n",
       "      <td>Subject: recruiting at cmu computational finan...</td>\n",
       "      <td>0</td>\n",
       "    </tr>\n",
       "    <tr>\n",
       "      <th>158</th>\n",
       "      <td>Subject: veryy useful  how to save on y slapst...</td>\n",
       "      <td>1</td>\n",
       "    </tr>\n",
       "    <tr>\n",
       "      <th>5289</th>\n",
       "      <td>Subject: historical curve databases &amp; historic...</td>\n",
       "      <td>0</td>\n",
       "    </tr>\n",
       "  </tbody>\n",
       "</table>\n",
       "</div>"
      ],
      "text/plain": [
       "                                                   text  spam\n",
       "343   Subject: 6 % commission on 12 month \" cd - sty...     1\n",
       "3822  Subject: re : lost cell telephone  chris :  vi...     0\n",
       "2599  Subject: great divide lodge  vince and shirley...     0\n",
       "2996  Subject: re : congratulations  vince ,  congra...     0\n",
       "891   Subject: re [ 4 ] : don ' t get left behind ! ...     1\n",
       "2902  Subject: interview schedules for tony hamilton...     0\n",
       "1456  Subject: indication dates for sharad ' s visit...     0\n",
       "3420  Subject: recruiting at cmu computational finan...     0\n",
       "158   Subject: veryy useful  how to save on y slapst...     1\n",
       "5289  Subject: historical curve databases & historic...     0"
      ]
     },
     "execution_count": 4,
     "metadata": {},
     "output_type": "execute_result"
    }
   ],
   "source": [
    "dataset.sample(10)"
   ]
  },
  {
   "cell_type": "code",
   "execution_count": 5,
   "id": "c460e1c8",
   "metadata": {},
   "outputs": [
    {
     "data": {
      "text/plain": [
       "(5728, 2)"
      ]
     },
     "execution_count": 5,
     "metadata": {},
     "output_type": "execute_result"
    }
   ],
   "source": [
    "dataset.shape"
   ]
  },
  {
   "cell_type": "code",
   "execution_count": 6,
   "id": "2bc10f98",
   "metadata": {},
   "outputs": [
    {
     "name": "stdout",
     "output_type": "stream",
     "text": [
      "<class 'pandas.core.frame.DataFrame'>\n",
      "RangeIndex: 5728 entries, 0 to 5727\n",
      "Data columns (total 2 columns):\n",
      " #   Column  Non-Null Count  Dtype \n",
      "---  ------  --------------  ----- \n",
      " 0   text    5728 non-null   object\n",
      " 1   spam    5728 non-null   int64 \n",
      "dtypes: int64(1), object(1)\n",
      "memory usage: 89.6+ KB\n"
     ]
    }
   ],
   "source": [
    "dataset.info()\n",
    "#no missing values."
   ]
  },
  {
   "cell_type": "code",
   "execution_count": 7,
   "id": "166d5d58",
   "metadata": {
    "scrolled": true
   },
   "outputs": [
    {
     "data": {
      "text/html": [
       "<div>\n",
       "<style scoped>\n",
       "    .dataframe tbody tr th:only-of-type {\n",
       "        vertical-align: middle;\n",
       "    }\n",
       "\n",
       "    .dataframe tbody tr th {\n",
       "        vertical-align: top;\n",
       "    }\n",
       "\n",
       "    .dataframe thead th {\n",
       "        text-align: right;\n",
       "    }\n",
       "</style>\n",
       "<table border=\"1\" class=\"dataframe\">\n",
       "  <thead>\n",
       "    <tr style=\"text-align: right;\">\n",
       "      <th></th>\n",
       "      <th>text</th>\n",
       "      <th>label</th>\n",
       "    </tr>\n",
       "  </thead>\n",
       "  <tbody>\n",
       "    <tr>\n",
       "      <th>2601</th>\n",
       "      <td>Subject: charles shen  vince : update on charl...</td>\n",
       "      <td>0</td>\n",
       "    </tr>\n",
       "    <tr>\n",
       "      <th>45</th>\n",
       "      <td>Subject: 1000 full color brochures 335  the ts...</td>\n",
       "      <td>1</td>\n",
       "    </tr>\n",
       "    <tr>\n",
       "      <th>3973</th>\n",
       "      <td>Subject: fyi : energy operations promotions  h...</td>\n",
       "      <td>0</td>\n",
       "    </tr>\n",
       "    <tr>\n",
       "      <th>1962</th>\n",
       "      <td>Subject: enron / globe  dear drs . roberts and...</td>\n",
       "      <td>0</td>\n",
       "    </tr>\n",
       "    <tr>\n",
       "      <th>4024</th>\n",
       "      <td>Subject: hello  shirley ,  can you , please , ...</td>\n",
       "      <td>0</td>\n",
       "    </tr>\n",
       "  </tbody>\n",
       "</table>\n",
       "</div>"
      ],
      "text/plain": [
       "                                                   text  label\n",
       "2601  Subject: charles shen  vince : update on charl...      0\n",
       "45    Subject: 1000 full color brochures 335  the ts...      1\n",
       "3973  Subject: fyi : energy operations promotions  h...      0\n",
       "1962  Subject: enron / globe  dear drs . roberts and...      0\n",
       "4024  Subject: hello  shirley ,  can you , please , ...      0"
      ]
     },
     "execution_count": 7,
     "metadata": {},
     "output_type": "execute_result"
    }
   ],
   "source": [
    "dataset.rename(columns={'spam': 'label'},inplace = True)\n",
    "dataset.sample(5)"
   ]
  },
  {
   "cell_type": "markdown",
   "id": "1422b4c9",
   "metadata": {},
   "source": [
    "# cleaning datas"
   ]
  },
  {
   "cell_type": "code",
   "execution_count": 8,
   "id": "30f4ff49",
   "metadata": {},
   "outputs": [],
   "source": [
    "import re\n",
    "\n",
    "def extract_sentence(row):\n",
    "    # Convert the 'text' column value to a string if it's not already a string\n",
    "    text = str(row['text'])\n",
    "\n",
    "    # Define a regular expression pattern to match a sentence until double spaces\n",
    "    pattern = r\"(.+?)  \"\n",
    "    \n",
    "    # Use re.search to find the pattern in the text\n",
    "    match = re.search(pattern, text)\n",
    "\n",
    "    # Check if a match is found and return the result\n",
    "    if match:\n",
    "         extracted_sentence = match.group(1)\n",
    "         updated_sentence = re.sub(pattern, '', text, count=1)\n",
    "         return extracted_sentence , updated_sentence \n",
    "    else:\n",
    "        return None , text\n",
    "\n",
    "# Extract the sentence until double spaces\n",
    "dataset[['subject', 'text']] = dataset.apply(extract_sentence, axis=1, result_type='expand')\n"
   ]
  },
  {
   "cell_type": "code",
   "execution_count": 9,
   "id": "62f5e53f",
   "metadata": {},
   "outputs": [],
   "source": [
    "def remove_subject_prefix(subject):\n",
    "    if subject is not None and subject.startswith(\"Subject: \"):\n",
    "        return subject[9:]  # Remove \"Subject: \" from the beginning of the subject string\n",
    "    else:\n",
    "        return subject  # Return the subject string as it is\n",
    "\n",
    "# Apply the remove_subject_prefix function to the 'subject' column of the DataFrame\n",
    "dataset['subject'] = dataset['subject'].apply(remove_subject_prefix)\n"
   ]
  },
  {
   "cell_type": "code",
   "execution_count": 10,
   "id": "7df60c18",
   "metadata": {},
   "outputs": [
    {
     "data": {
      "text/plain": [
       "33"
      ]
     },
     "execution_count": 10,
     "metadata": {},
     "output_type": "execute_result"
    }
   ],
   "source": [
    "dataset.duplicated().sum()\n",
    "#duplicated values"
   ]
  },
  {
   "cell_type": "code",
   "execution_count": 11,
   "id": "eddf67a8",
   "metadata": {},
   "outputs": [],
   "source": [
    "dataset = dataset.drop_duplicates(keep= 'first')"
   ]
  },
  {
   "cell_type": "code",
   "execution_count": 12,
   "id": "948f7458",
   "metadata": {},
   "outputs": [
    {
     "data": {
      "text/plain": [
       "0"
      ]
     },
     "execution_count": 12,
     "metadata": {},
     "output_type": "execute_result"
    }
   ],
   "source": [
    "dataset.duplicated().sum()\n",
    "# no duplicate values."
   ]
  },
  {
   "cell_type": "code",
   "execution_count": 13,
   "id": "7ac83250",
   "metadata": {},
   "outputs": [
    {
     "data": {
      "text/html": [
       "<div>\n",
       "<style scoped>\n",
       "    .dataframe tbody tr th:only-of-type {\n",
       "        vertical-align: middle;\n",
       "    }\n",
       "\n",
       "    .dataframe tbody tr th {\n",
       "        vertical-align: top;\n",
       "    }\n",
       "\n",
       "    .dataframe thead th {\n",
       "        text-align: right;\n",
       "    }\n",
       "</style>\n",
       "<table border=\"1\" class=\"dataframe\">\n",
       "  <thead>\n",
       "    <tr style=\"text-align: right;\">\n",
       "      <th></th>\n",
       "      <th>text</th>\n",
       "      <th>label</th>\n",
       "      <th>subject</th>\n",
       "    </tr>\n",
       "  </thead>\n",
       "  <tbody>\n",
       "    <tr>\n",
       "      <th>0</th>\n",
       "      <td>lt is really hard to recollect a company : the...</td>\n",
       "      <td>1</td>\n",
       "      <td>naturally irresistible your corporate identity</td>\n",
       "    </tr>\n",
       "    <tr>\n",
       "      <th>1</th>\n",
       "      <td>fanny is merrill but muzo not colza attainder ...</td>\n",
       "      <td>1</td>\n",
       "      <td>the stock trading gunslinger</td>\n",
       "    </tr>\n",
       "    <tr>\n",
       "      <th>2</th>\n",
       "      <td>im wanting to show you this  homeowner  you ha...</td>\n",
       "      <td>1</td>\n",
       "      <td>unbelievable new homes made easy</td>\n",
       "    </tr>\n",
       "    <tr>\n",
       "      <th>3</th>\n",
       "      <td>request additional information now ! click her...</td>\n",
       "      <td>1</td>\n",
       "      <td>4 color printing special</td>\n",
       "    </tr>\n",
       "    <tr>\n",
       "      <th>4</th>\n",
       "      <td>software compatibility . . . . ain ' t it grea...</td>\n",
       "      <td>1</td>\n",
       "      <td>do not have money , get software cds from here !</td>\n",
       "    </tr>\n",
       "    <tr>\n",
       "      <th>5</th>\n",
       "      <td>hello , welcome to medzonline sh groundsel op ...</td>\n",
       "      <td>1</td>\n",
       "      <td>great nnews</td>\n",
       "    </tr>\n",
       "    <tr>\n",
       "      <th>6</th>\n",
       "      <td>homeland security investments  the terror atta...</td>\n",
       "      <td>1</td>\n",
       "      <td>here ' s a hot play in motion</td>\n",
       "    </tr>\n",
       "    <tr>\n",
       "      <th>7</th>\n",
       "      <td>you have not tried cialls yet ?  than you cann...</td>\n",
       "      <td>1</td>\n",
       "      <td>save your money buy getting this thing here</td>\n",
       "    </tr>\n",
       "    <tr>\n",
       "      <th>8</th>\n",
       "      <td>your message  subject : home based business fo...</td>\n",
       "      <td>1</td>\n",
       "      <td>undeliverable : home based business for grownups</td>\n",
       "    </tr>\n",
       "    <tr>\n",
       "      <th>9</th>\n",
       "      <td>you have not tried cialls yet ?  than you cann...</td>\n",
       "      <td>1</td>\n",
       "      <td>save your money buy getting this thing here</td>\n",
       "    </tr>\n",
       "  </tbody>\n",
       "</table>\n",
       "</div>"
      ],
      "text/plain": [
       "                                                text  label  \\\n",
       "0  lt is really hard to recollect a company : the...      1   \n",
       "1  fanny is merrill but muzo not colza attainder ...      1   \n",
       "2  im wanting to show you this  homeowner  you ha...      1   \n",
       "3  request additional information now ! click her...      1   \n",
       "4  software compatibility . . . . ain ' t it grea...      1   \n",
       "5  hello , welcome to medzonline sh groundsel op ...      1   \n",
       "6  homeland security investments  the terror atta...      1   \n",
       "7  you have not tried cialls yet ?  than you cann...      1   \n",
       "8  your message  subject : home based business fo...      1   \n",
       "9  you have not tried cialls yet ?  than you cann...      1   \n",
       "\n",
       "                                            subject  \n",
       "0    naturally irresistible your corporate identity  \n",
       "1                      the stock trading gunslinger  \n",
       "2                  unbelievable new homes made easy  \n",
       "3                          4 color printing special  \n",
       "4  do not have money , get software cds from here !  \n",
       "5                                       great nnews  \n",
       "6                     here ' s a hot play in motion  \n",
       "7       save your money buy getting this thing here  \n",
       "8  undeliverable : home based business for grownups  \n",
       "9       save your money buy getting this thing here  "
      ]
     },
     "execution_count": 13,
     "metadata": {},
     "output_type": "execute_result"
    }
   ],
   "source": [
    "dataset.head(10)"
   ]
  },
  {
   "cell_type": "markdown",
   "id": "bbce1bfc",
   "metadata": {},
   "source": [
    "# EDA"
   ]
  },
  {
   "cell_type": "code",
   "execution_count": 14,
   "id": "b6ea5f41",
   "metadata": {},
   "outputs": [
    {
     "data": {
      "text/plain": [
       "label\n",
       "0    4327\n",
       "1    1368\n",
       "Name: count, dtype: int64"
      ]
     },
     "execution_count": 14,
     "metadata": {},
     "output_type": "execute_result"
    }
   ],
   "source": [
    "dataset['label'].value_counts()\n",
    "# 0 -> ham emails\n",
    "# 1 -> spam emails."
   ]
  },
  {
   "cell_type": "code",
   "execution_count": 15,
   "id": "c8bbdd12",
   "metadata": {},
   "outputs": [
    {
     "data": {
      "image/png": "[encoded data removed]",
      "text/plain": [
       "<Figure size 640x480 with 1 Axes>"
      ]
     },
     "metadata": {},
     "output_type": "display_data"
    }
   ],
   "source": [
    "plt.pie(dataset['label'].value_counts(),labels=['Ham','spam'],autopct=\"%0.2f\")\n",
    "plt.show()"
   ]
  },
  {
   "cell_type": "code",
   "execution_count": 16,
   "id": "df1b247b",
   "metadata": {},
   "outputs": [],
   "source": [
    "import nltk\n",
    "from nltk.stem.porter import PorterStemmer\n",
    "from nltk.corpus import stopwords\n",
    "import string\n",
    "ps= PorterStemmer()"
   ]
  },
  {
   "cell_type": "code",
   "execution_count": 17,
   "id": "0be14351",
   "metadata": {},
   "outputs": [],
   "source": [
    "def transform_text(text):\n",
    "    text = text.lower()\n",
    "    text = nltk.word_tokenize(text)\n",
    "    y= []\n",
    "    for i in text:\n",
    "        if i.isalnum():\n",
    "            y.append(i)\n",
    "    text = y[:]\n",
    "    y.clear()\n",
    "    for i in text:\n",
    "        if i not in stopwords.words('english') and i not in string.punctuation:\n",
    "            y.append(i)\n",
    "    text = y[:]\n",
    "    y.clear()\n",
    "    for i in text:\n",
    "        y.append(ps.stem(i))\n",
    "        \n",
    "    return \" \".join(y)\n",
    "\n",
    "\n",
    "        "
   ]
  },
  {
   "cell_type": "code",
   "execution_count": 18,
   "id": "884cb8c1",
   "metadata": {},
   "outputs": [],
   "source": [
    "lam=dataset['text'][20]"
   ]
  },
  {
   "cell_type": "code",
   "execution_count": 19,
   "id": "55bdf8a5",
   "metadata": {},
   "outputs": [
    {
     "data": {
      "text/plain": [
       "'girl unsatisfi potenc wait find anoth men click choos great varieti llcens love bs best pri es fast shippinq guarante effect buy riqht warehous store verifi bbb approv visa'"
      ]
     },
     "execution_count": 19,
     "metadata": {},
     "output_type": "execute_result"
    }
   ],
   "source": [
    "transform_text(lam)"
   ]
  },
  {
   "cell_type": "code",
   "execution_count": 20,
   "id": "f7335208",
   "metadata": {},
   "outputs": [],
   "source": [
    "dataset['Transformed text'] = dataset['text'].apply(transform_text)"
   ]
  },
  {
   "cell_type": "code",
   "execution_count": 21,
   "id": "c7bd3b52",
   "metadata": {},
   "outputs": [
    {
     "data": {
      "text/html": [
       "<div>\n",
       "<style scoped>\n",
       "    .dataframe tbody tr th:only-of-type {\n",
       "        vertical-align: middle;\n",
       "    }\n",
       "\n",
       "    .dataframe tbody tr th {\n",
       "        vertical-align: top;\n",
       "    }\n",
       "\n",
       "    .dataframe thead th {\n",
       "        text-align: right;\n",
       "    }\n",
       "</style>\n",
       "<table border=\"1\" class=\"dataframe\">\n",
       "  <thead>\n",
       "    <tr style=\"text-align: right;\">\n",
       "      <th></th>\n",
       "      <th>text</th>\n",
       "      <th>label</th>\n",
       "      <th>subject</th>\n",
       "      <th>Transformed text</th>\n",
       "    </tr>\n",
       "  </thead>\n",
       "  <tbody>\n",
       "    <tr>\n",
       "      <th>0</th>\n",
       "      <td>lt is really hard to recollect a company : the...</td>\n",
       "      <td>1</td>\n",
       "      <td>naturally irresistible your corporate identity</td>\n",
       "      <td>lt realli hard recollect compani market full s...</td>\n",
       "    </tr>\n",
       "    <tr>\n",
       "      <th>1</th>\n",
       "      <td>fanny is merrill but muzo not colza attainder ...</td>\n",
       "      <td>1</td>\n",
       "      <td>the stock trading gunslinger</td>\n",
       "      <td>fanni merril muzo colza attaind penultim like ...</td>\n",
       "    </tr>\n",
       "    <tr>\n",
       "      <th>2</th>\n",
       "      <td>im wanting to show you this  homeowner  you ha...</td>\n",
       "      <td>1</td>\n",
       "      <td>unbelievable new homes made easy</td>\n",
       "      <td>im want show homeown pre approv 454 169 home l...</td>\n",
       "    </tr>\n",
       "    <tr>\n",
       "      <th>3</th>\n",
       "      <td>request additional information now ! click her...</td>\n",
       "      <td>1</td>\n",
       "      <td>4 color printing special</td>\n",
       "      <td>request addit inform click click printabl vers...</td>\n",
       "    </tr>\n",
       "    <tr>\n",
       "      <th>4</th>\n",
       "      <td>software compatibility . . . . ain ' t it grea...</td>\n",
       "      <td>1</td>\n",
       "      <td>do not have money , get software cds from here !</td>\n",
       "      <td>softwar compat great grow old along best yet t...</td>\n",
       "    </tr>\n",
       "  </tbody>\n",
       "</table>\n",
       "</div>"
      ],
      "text/plain": [
       "                                                text  label  \\\n",
       "0  lt is really hard to recollect a company : the...      1   \n",
       "1  fanny is merrill but muzo not colza attainder ...      1   \n",
       "2  im wanting to show you this  homeowner  you ha...      1   \n",
       "3  request additional information now ! click her...      1   \n",
       "4  software compatibility . . . . ain ' t it grea...      1   \n",
       "\n",
       "                                            subject  \\\n",
       "0    naturally irresistible your corporate identity   \n",
       "1                      the stock trading gunslinger   \n",
       "2                  unbelievable new homes made easy   \n",
       "3                          4 color printing special   \n",
       "4  do not have money , get software cds from here !   \n",
       "\n",
       "                                    Transformed text  \n",
       "0  lt realli hard recollect compani market full s...  \n",
       "1  fanni merril muzo colza attaind penultim like ...  \n",
       "2  im want show homeown pre approv 454 169 home l...  \n",
       "3  request addit inform click click printabl vers...  \n",
       "4  softwar compat great grow old along best yet t...  "
      ]
     },
     "execution_count": 21,
     "metadata": {},
     "output_type": "execute_result"
    }
   ],
   "source": [
    "dataset.head()"
   ]
  },
  {
   "cell_type": "markdown",
   "id": "7f34acef",
   "metadata": {},
   "source": [
    "# Model Building\n"
   ]
  },
  {
   "cell_type": "code",
   "execution_count": 22,
   "id": "7752ba54",
   "metadata": {},
   "outputs": [],
   "source": [
    "from sklearn.feature_extraction.text import CountVectorizer ,TfidfVectorizer\n",
    "cv = CountVectorizer()\n",
    "tfidf = TfidfVectorizer(max_features = 3000)\n"
   ]
  },
  {
   "cell_type": "code",
   "execution_count": 23,
   "id": "47c54ed7",
   "metadata": {},
   "outputs": [],
   "source": [
    "X = tfidf.fit_transform(dataset['Transformed text']).toarray()"
   ]
  },
  {
   "cell_type": "code",
   "execution_count": 24,
   "id": "8c69e6cc",
   "metadata": {},
   "outputs": [
    {
     "data": {
      "text/plain": [
       "(5695, 3000)"
      ]
     },
     "execution_count": 24,
     "metadata": {},
     "output_type": "execute_result"
    }
   ],
   "source": [
    "X.shape"
   ]
  },
  {
   "cell_type": "code",
   "execution_count": 25,
   "id": "8c3e2510",
   "metadata": {},
   "outputs": [],
   "source": [
    "y = dataset['label'].values"
   ]
  },
  {
   "cell_type": "code",
   "execution_count": 26,
   "id": "314d7618",
   "metadata": {},
   "outputs": [
    {
     "data": {
      "text/plain": [
       "(5695,)"
      ]
     },
     "execution_count": 26,
     "metadata": {},
     "output_type": "execute_result"
    }
   ],
   "source": [
    "y.shape"
   ]
  },
  {
   "cell_type": "code",
   "execution_count": 27,
   "id": "f2b745b9",
   "metadata": {},
   "outputs": [],
   "source": [
    "X_train,X_test,y_train,y_test = train_test_split(X,y,test_size= 0.2,random_state =2)"
   ]
  },
  {
   "cell_type": "markdown",
   "id": "3ef4afdd",
   "metadata": {},
   "source": [
    "# Importing Model\n"
   ]
  },
  {
   "cell_type": "markdown",
   "id": "45dccbcb",
   "metadata": {},
   "source": [
    "# Naive Bayes"
   ]
  },
  {
   "cell_type": "code",
   "execution_count": 28,
   "id": "d13c9b62",
   "metadata": {},
   "outputs": [],
   "source": [
    "from sklearn.naive_bayes import BernoulliNB,MultinomialNB,GaussianNB\n",
    "from sklearn.metrics import accuracy_score,precision_score"
   ]
  },
  {
   "cell_type": "code",
   "execution_count": 29,
   "id": "767d9339",
   "metadata": {},
   "outputs": [],
   "source": [
    "b_nb= BernoulliNB()"
   ]
  },
  {
   "cell_type": "code",
   "execution_count": 30,
   "id": "d278778c",
   "metadata": {},
   "outputs": [
    {
     "name": "stdout",
     "output_type": "stream",
     "text": [
      "0.9288849868305531\n",
      "0.7863013698630137\n"
     ]
    }
   ],
   "source": [
    "b_nb.fit(X_train,y_train)\n",
    "y_pred =b_nb.predict(X_test)\n",
    "print(accuracy_score(y_test,y_pred))\n",
    "print(precision_score(y_test,y_pred))"
   ]
  },
  {
   "cell_type": "code",
   "execution_count": 31,
   "id": "80a46f98",
   "metadata": {},
   "outputs": [],
   "source": [
    "m_nb= MultinomialNB()"
   ]
  },
  {
   "cell_type": "code",
   "execution_count": 32,
   "id": "38e44720",
   "metadata": {},
   "outputs": [
    {
     "name": "stdout",
     "output_type": "stream",
     "text": [
      "0.9780509218612818\n",
      "0.9853479853479854\n"
     ]
    }
   ],
   "source": [
    "m_nb.fit(X_train,y_train)\n",
    "y_pred1 = m_nb.predict(X_test)\n",
    "print(accuracy_score(y_test,y_pred1))\n",
    "print(precision_score(y_test,y_pred1))"
   ]
  },
  {
   "cell_type": "code",
   "execution_count": 33,
   "id": "096ad37c",
   "metadata": {},
   "outputs": [],
   "source": [
    "g_nb= GaussianNB()"
   ]
  },
  {
   "cell_type": "code",
   "execution_count": 34,
   "id": "8d8d1aad",
   "metadata": {},
   "outputs": [
    {
     "name": "stdout",
     "output_type": "stream",
     "text": [
      "0.9482001755926251\n",
      "0.9494163424124513\n"
     ]
    }
   ],
   "source": [
    "g_nb.fit(X_train,y_train)\n",
    "y_pred2 = g_nb.predict(X_test)\n",
    "print(accuracy_score(y_test,y_pred2))\n",
    "print(precision_score(y_test,y_pred2))"
   ]
  },
  {
   "cell_type": "markdown",
   "id": "4a8012b6",
   "metadata": {},
   "source": [
    "# Logistic Regression"
   ]
  },
  {
   "cell_type": "code",
   "execution_count": 35,
   "id": "15ed236f",
   "metadata": {},
   "outputs": [],
   "source": [
    "from sklearn.linear_model import LogisticRegression"
   ]
  },
  {
   "cell_type": "code",
   "execution_count": 36,
   "id": "9ae392e1",
   "metadata": {},
   "outputs": [],
   "source": [
    "lr = LogisticRegression()\n"
   ]
  },
  {
   "cell_type": "code",
   "execution_count": 37,
   "id": "022ca519",
   "metadata": {},
   "outputs": [
    {
     "name": "stdout",
     "output_type": "stream",
     "text": [
      "0.9815627743634767\n",
      "0.996309963099631\n"
     ]
    }
   ],
   "source": [
    "lr.fit(X_train,y_train)\n",
    "y_pred3 = lr.predict(X_test)\n",
    "print(accuracy_score(y_test,y_pred3))\n",
    "print(precision_score(y_test,y_pred3))"
   ]
  },
  {
   "cell_type": "markdown",
   "id": "74e74a8c",
   "metadata": {},
   "source": [
    "# SVM"
   ]
  },
  {
   "cell_type": "code",
   "execution_count": 38,
   "id": "aab2c0e8",
   "metadata": {},
   "outputs": [],
   "source": [
    "from sklearn.svm import SVC"
   ]
  },
  {
   "cell_type": "code",
   "execution_count": 39,
   "id": "7eeb6d62",
   "metadata": {},
   "outputs": [],
   "source": [
    "clf = SVC(kernel='linear')"
   ]
  },
  {
   "cell_type": "code",
   "execution_count": 40,
   "id": "5d19f67d",
   "metadata": {},
   "outputs": [
    {
     "name": "stdout",
     "output_type": "stream",
     "text": [
      "0.9929762949956101\n",
      "1.0\n"
     ]
    }
   ],
   "source": [
    "clf.fit(X_train,y_train)\n",
    "y_pred4 = clf.predict(X_test)\n",
    "print(accuracy_score(y_test,y_pred4))\n",
    "print(precision_score(y_test,y_pred4))"
   ]
  },
  {
   "cell_type": "code",
   "execution_count": 41,
   "id": "f4ba51ed",
   "metadata": {
    "scrolled": true
   },
   "outputs": [
    {
     "data": {
      "text/plain": [
       "'our customer speak volumes about our spur m product  \" i just wanted to write and thank you for spur - m .  i suffered from poor sperm count and motility . i found  your site and ordered spur - m fertility blend for men .  i have wondered for years what caused low semen and sperm  count , and how i could improve my fertility and help my wife  conceive . spur - m seems to have done just that ! thank you  for your support . \"  andrew h . , london , uk  \" spur - m really does help improve fertility and effectiveness  of sperm and semen motility . i used it for the past few months ,  and not only does it work - i also feel better to . i have  more energy . this is an excellent counter to low sperm count  and motility . i \\' ll be buying more ! ! ! \"  franz k . , bonn , germany  http : / / rosemary . chorally . com / spur / ? sheep  for removing , pls go here  http : / / mcclure . chorally . com / rm . php'"
      ]
     },
     "execution_count": 41,
     "metadata": {},
     "output_type": "execute_result"
    }
   ],
   "source": [
    "dataset['text'][1224]"
   ]
  },
  {
   "cell_type": "code",
   "execution_count": 42,
   "id": "a1b024d3",
   "metadata": {},
   "outputs": [],
   "source": [
    " new_text = \"We are thrilled to introduce [Brand Name], a fresh perspective on men's fashion that blends contemporary style with timeless sophistication. Our brand is built on the belief that every man deserves clothing that not only fits impeccably but also reflects his unique personality.Explore our curated collection of premium menswear, designed to effortlessly transition from casual to formal occasions. From versatile essentials to statement pieces, [Brand Name] offers a range of high-quality fabrics and impeccable craftsmanship that will elevate your wardrobe.Discover the perfect balance of comfort and style with our latest arrivals. Whether you're heading to the office, a weekend getaway, or a night out, [Brand Name] has you covered. Be among the first to experience the essence of [Brand Name]—where fashion meets individuality.As a special welcome, enjoy an exclusive 15% discount on your first order. Simply use code WELCOME15 at checkout. \""
   ]
  },
  {
   "cell_type": "code",
   "execution_count": 43,
   "id": "10719de6",
   "metadata": {},
   "outputs": [],
   "source": [
    "X_new = transform_text(new_text)"
   ]
  },
  {
   "cell_type": "code",
   "execution_count": 44,
   "id": "4cb3f9c8",
   "metadata": {},
   "outputs": [],
   "source": [
    "X_new =tfidf.transform([X_new]).toarray()"
   ]
  },
  {
   "cell_type": "code",
   "execution_count": 45,
   "id": "26b07e0e",
   "metadata": {},
   "outputs": [
    {
     "name": "stdout",
     "output_type": "stream",
     "text": [
      "[1]\n"
     ]
    }
   ],
   "source": [
    "print(m_nb.predict(X_new))\n"
   ]
  },
  {
   "cell_type": "code",
   "execution_count": 46,
   "id": "719bf5f9",
   "metadata": {},
   "outputs": [
    {
     "name": "stdout",
     "output_type": "stream",
     "text": [
      "[1]\n"
     ]
    }
   ],
   "source": [
    "print(lr.predict(X_new))"
   ]
  },
  {
   "cell_type": "code",
   "execution_count": 47,
   "id": "3479a874",
   "metadata": {},
   "outputs": [
    {
     "name": "stdout",
     "output_type": "stream",
     "text": [
      "[1]\n"
     ]
    }
   ],
   "source": [
    "print(clf.predict(X_new))"
   ]
  }
 ],
 "metadata": {
  "kernelspec": {
   "display_name": "Python 3 (ipykernel)",
   "language": "python",
   "name": "python3"
  },
  "language_info": {
   "codemirror_mode": {
    "name": "ipython",
    "version": 3
   },
   "file_extension": ".py",
   "mimetype": "text/x-python",
   "name": "python",
   "nbconvert_exporter": "python",
   "pygments_lexer": "ipython3",
   "version": "3.11.5"
  }
 },
 "nbformat": 4,
 "nbformat_minor": 5
}
